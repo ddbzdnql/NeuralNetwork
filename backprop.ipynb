{
 "cells": [
  {
   "cell_type": "code",
   "execution_count": 4,
   "metadata": {
    "scrolled": true
   },
   "outputs": [
    {
     "name": "stdout",
     "output_type": "stream",
     "text": [
      "1\n"
     ]
    }
   ],
   "source": [
    "class Node:\n",
    "    value = 0.0\n",
    "    to = []\n",
    "    feed = []\n",
    "    analysis = []\n",
    "    ready = False\n",
    "    name = \"\"\n",
    "    \n",
    "    def __init__(self, n):\n",
    "        self.name = n\n",
    "        \n",
    "    def __eq__(self, other):\n",
    "        return self.name == other.name\n",
    "    \n",
    "    def toNode(n):\n",
    "        self.to.append(n)\n",
    "        \n",
    "    def feedNode(n):\n",
    "        self.feed.append(n)\n",
    "        \n",
    "    def analyze(func, sign):\n",
    "        self.analysis.append((func,sign))\n",
    "        \n",
    "    def analyze(func, args, sign):\n",
    "        func.supplyArgs(args)\n",
    "        self.analysis.append((func,sign))\n",
    "\n",
    "def forward(nodes, initVals):\n",
    "    while len(nodes) != 0:\n",
    "        current = nodes.pop(0)\n",
    "        prepared = True\n",
    "        for n in current.feed:\n",
    "            if !n.ready:\n",
    "                prepared = False\n",
    "                break\n",
    "        \n",
    "        if prepared:\n",
    "            val = 0\n",
    "            if len(initVals) > 0:\n",
    "                val = initVals.pop(0)\n",
    "            else:\n",
    "                for func, sign in current.analysis:\n",
    "                    temp = func.evaluate(func.args)\n",
    "                    val += temp if sign else -temp\n",
    "            current.value = val\n",
    "            current.ready = True\n",
    "            for n in current.to:\n",
    "                if !(n in nodes):\n",
    "                    nodes.append(n)\n",
    "                    \n",
    "    \n",
    "def backward(nodes):\n",
    "    return 0\n",
    "    "
   ]
  },
  {
   "cell_type": "code",
   "execution_count": null,
   "metadata": {},
   "outputs": [],
   "source": []
  }
 ],
 "metadata": {
  "kernelspec": {
   "display_name": "Python 3",
   "language": "python",
   "name": "python3"
  },
  "language_info": {
   "codemirror_mode": {
    "name": "ipython",
    "version": 3
   },
   "file_extension": ".py",
   "mimetype": "text/x-python",
   "name": "python",
   "nbconvert_exporter": "python",
   "pygments_lexer": "ipython3",
   "version": "3.6.5"
  }
 },
 "nbformat": 4,
 "nbformat_minor": 2
}
